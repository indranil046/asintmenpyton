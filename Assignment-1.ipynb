{
 "cells": [
  {
   "cell_type": "code",
   "execution_count": 1,
   "id": "eb44def7-bd9b-4589-8a4d-54b79d327e25",
   "metadata": {},
   "outputs": [],
   "source": [
    "##Assignment-1\n",
    "##Q1)\n",
    "# (i) String\n",
    "my_string = \"Hello, World\"\n",
    "\n",
    "# (ii) list\n",
    "my_list = [1, 2, 3, 4, 5]\n",
    "\n",
    "# (iii) Float\n",
    "my_float = 3.14\n",
    "\n",
    "# (iv) Tuple\n",
    "my_tuple = (6, 7, 8, 9, 10)\n"
   ]
  },
  {
   "cell_type": "code",
   "execution_count": null,
   "id": "b86464b4-7553-47a1-95c0-9abdd91bcbae",
   "metadata": {},
   "outputs": [],
   "source": [
    "##Q2)\n",
    "var1 is a string.\n",
    "var2 is a string.\n",
    "var3 is a list.\n",
    "var4 is an integer.\n"
   ]
  },
  {
   "cell_type": "code",
   "execution_count": null,
   "id": "1e7a0218-81b5-434f-af9c-98ffb7999b46",
   "metadata": {},
   "outputs": [],
   "source": [
    "##Q3)\n",
    "a = 10\n",
    "b = 3\n",
    "result = a / b\n",
    "print(result)\n",
    "output is '3.3333333333333335'\n",
    "a = 10\n",
    "b = 3\n",
    "result = a % b\n",
    "print(result)\n",
    "output is '1'\n",
    "a = 10\n",
    "b = 3\n",
    "result = a // b\n",
    "print(result)\n",
    "output is '3'\n",
    "a = 2\n",
    "b = 3\n",
    "result = a ** b\n",
    "print(result)\n",
    "output is '8'\n"
   ]
  },
  {
   "cell_type": "code",
   "execution_count": 3,
   "id": "df36cdb6-b273-4c64-8195-bae633c79ff0",
   "metadata": {},
   "outputs": [
    {
     "name": "stdout",
     "output_type": "stream",
     "text": [
      "9 <class 'int'>\n",
      "banana <class 'str'>\n",
      "5.6 <class 'float'>\n",
      "False <class 'bool'>\n",
      "[5, 9, 0] <class 'list'>\n",
      "{'name': 'indra'} <class 'dict'>\n",
      "deep <class 'str'>\n",
      "apple <class 'str'>\n",
      "False <class 'bool'>\n",
      "(11, 55, 16) <class 'tuple'>\n"
     ]
    }
   ],
   "source": [
    "##Q4)\n",
    "mydata = [9, 'banana', 5.60, False, [5, 9, 0], {'name': 'indra'}, \"deep\", \"apple\", False, (11, 55, 16)]\n",
    "\n",
    "for con in mydata:\n",
    "    print(con, type(con))\n"
   ]
  },
  {
   "cell_type": "code",
   "execution_count": null,
   "id": "0435c38b-dbdf-41c1-9a83-4a69084b023d",
   "metadata": {},
   "outputs": [],
   "source": [
    "##Q5)\n",
    "D = 25\n",
    "K = 5\n",
    "count = 0\n",
    "\n",
    "while D % K == 0:\n",
    "    D /= K\n",
    "    count=count+1\n",
    "\n",
    "print(\"Number of times A is divisible by B:\", count)\n"
   ]
  },
  {
   "cell_type": "code",
   "execution_count": null,
   "id": "7e347c8e-98c1-4165-91d8-f9f10df9c4a8",
   "metadata": {},
   "outputs": [],
   "source": [
    "##Q6)\n",
    "mycon = [6, 10, 11, 3, 9, 13, 215, 266, 99, 106, 133, 77, 213, 420, 624, 30, 51, 15, 8, 11, 21, 117, 202, 250, 27]\n",
    "\n",
    "for div in mycon:\n",
    "    if div % 3 == 0:\n",
    "        print(div, \"is divisible by 3\")\n",
    "    else:\n",
    "        print(div, \"is not divisible by 3\")\n"
   ]
  },
  {
   "cell_type": "code",
   "execution_count": null,
   "id": "d5f1617d-5b77-47cf-aa87-a18bbef86e33",
   "metadata": {},
   "outputs": [],
   "source": [
    "6 is divisible by 3\n",
    "10 is not divisible by 3\n",
    "11 is not divisible by 3\n",
    "3 is divisible by 3\n",
    "9 is divisible by 3\n",
    "13 is not divisible by 3\n",
    "215 is not divisible by 3\n",
    "266 is not divisible by 3\n",
    "99 is divisible by 3\n",
    "106 is not divisible by 3\n",
    "133 is not divisible by 3\n",
    "77 is not divisible by 3\n",
    "213 is divisible by 3\n",
    "420 is divisible by 3\n",
    "624 is divisible by 3\n",
    "30 is divisible by 3\n",
    "51 is divisible by 3\n",
    "15 is divisible by 3\n",
    "8 is not divisible by 3\n",
    "11 is not divisible by 3\n",
    "21 is divisible by 3\n",
    "117 is divisible by 3\n",
    "202 is not divisible by 3\n",
    "250 is not divisible by 3\n",
    "27 is divisible by 3"
   ]
  },
  {
   "cell_type": "code",
   "execution_count": null,
   "id": "097e8423-e7c8-4dd5-980e-15bdb184c195",
   "metadata": {},
   "outputs": [],
   "source": [
    "##Q7)\n",
    "str1 = \"indranil\"\n",
    "str2 = str1\n",
    "str1 = str1+\"saha\"\n",
    "print(str1)  # Output: \"indranilsaha\"\n",
    "print(str2)  # Output: \"indranil\"\n",
    "##this is Immutable data types cannot change\n",
    "list1 = [5, 6, 7]\n",
    "list2 = list1\n",
    "list1.append(4)\n",
    "print(list1)  # Output: [5, 6, 7, 4]\n",
    "print(list2)  # Output:[5, 6, 7, 4]\n",
    "##this is mutable data types this is change"
   ]
  }
 ],
 "metadata": {
  "kernelspec": {
   "display_name": "Python 3 (ipykernel)",
   "language": "python",
   "name": "python3"
  },
  "language_info": {
   "codemirror_mode": {
    "name": "ipython",
    "version": 3
   },
   "file_extension": ".py",
   "mimetype": "text/x-python",
   "name": "python",
   "nbconvert_exporter": "python",
   "pygments_lexer": "ipython3",
   "version": "3.10.8"
  }
 },
 "nbformat": 4,
 "nbformat_minor": 5
}
